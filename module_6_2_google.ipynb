{
  "nbformat": 4,
  "nbformat_minor": 0,
  "metadata": {
    "colab": {
      "provenance": [],
      "authorship_tag": "ABX9TyP7vqAcpotIjh84HWpdhpcw",
      "include_colab_link": true
    },
    "kernelspec": {
      "name": "python3",
      "display_name": "Python 3"
    },
    "language_info": {
      "name": "python"
    }
  },
  "cells": [
    {
      "cell_type": "markdown",
      "metadata": {
        "id": "view-in-github",
        "colab_type": "text"
      },
      "source": [
        "<a href=\"https://colab.research.google.com/github/santfan/module_6/blob/main/module_6_2_google.ipynb\" target=\"_parent\"><img src=\"https://colab.research.google.com/assets/colab-badge.svg\" alt=\"Open In Colab\"/></a>"
      ]
    },
    {
      "cell_type": "code",
      "execution_count": 33,
      "metadata": {
        "id": "KNtGkLIpoEAr"
      },
      "outputs": [],
      "source": [
        "class Vehicle:\n",
        "\n",
        "  '''Класс Транспортное средство принимает аргументы:\n",
        "  1. Имя владельца - name_owner\n",
        "  2. Марка модели - model\n",
        "  3. Цвет модели - color\n",
        "  4. Мощность двигателя - engine_power\n",
        "  Автомобиль может менять владельца\n",
        "  Цвет автомобиля можно менять только на цвета из списка __COLOR_VARIANTS\n",
        "  остальные параметры задаются при создании и изменению НЕ ПОДЛЕЖАТ! '''\n",
        "\n",
        "  __COLOR_VARIANTS = ['braun', 'red', 'orange', 'black', 'white']\n",
        "\n",
        "  def __init__(self, name_owner, model, color, engine_power):\n",
        "    # При инициации учтем неизменяеость аргументов\n",
        "    self.__model = model\n",
        "    self.__engine_power = engine_power\n",
        "    self.__color = color\n",
        "    # Параметр Владелец можно изменять\n",
        "    self.name_owner = name_owner\n",
        "\n",
        "  # Функция получения Марки\n",
        "  def get_model(self):\n",
        "    return f'Модель: {self.__model}'\n",
        "\n",
        "  # Функция получения Мощности\n",
        "  def get_horsepower(self):\n",
        "    return f'Мощность двигателя: {self.__engine_power}'\n",
        "\n",
        "  # Функция получения Цвета\n",
        "  def get_color(self):\n",
        "    return f'Цвет: {self.__color}'\n",
        "\n",
        "  # Функция вывода информации о транспортном средстве\n",
        "  def print_info(self):\n",
        "    print(f'{self.get_model()}\\n{self.get_horsepower()}\\n{self.get_color()}')\n",
        "    print('Владелец: ', self.name_owner)\n",
        "\n",
        "  # Функция изменения цвета\n",
        "  def set_color(self, new_color):\n",
        "    # Функция провеки разрешенных цветов\n",
        "    if new_color.lower() in self.__COLOR_VARIANTS:\n",
        "      self.__color = new_color\n",
        "    else:\n",
        "      print(f'Нельзя изменить цвет на {new_color}')\n",
        "\n",
        "# Создадим дочерний класс Транспортоного средства Sedan\n",
        "class Sedan(Vehicle):\n",
        "  # Ограничения пассажирских мест для Sedan\n",
        "  __PASSENGERS_LIMIT = 5"
      ]
    },
    {
      "cell_type": "code",
      "source": [
        "# Создадим экземпляр класса Транспортное средство СЕДАН\n",
        "# Экземпяр Sedan наследует атрибуты родительского класса Vehicle\n",
        "vehicle1 = Sedan('Fedos','Toyota Mark II', 'blue', 500)"
      ],
      "metadata": {
        "id": "BuL-hp8J_K_u"
      },
      "execution_count": 34,
      "outputs": []
    },
    {
      "cell_type": "code",
      "source": [
        "# Проверим создание\n",
        "vehicle1.print_info()"
      ],
      "metadata": {
        "colab": {
          "base_uri": "https://localhost:8080/"
        },
        "id": "TAoavObH_YM_",
        "outputId": "6a1d724e-aa54-4b50-c6ac-26bc895cb5a7"
      },
      "execution_count": 35,
      "outputs": [
        {
          "output_type": "stream",
          "name": "stdout",
          "text": [
            "Модель: Toyota Mark II\n",
            "Мощность двигателя: 500\n",
            "Цвет: blue\n",
            "Владелец:  Fedos\n"
          ]
        }
      ]
    },
    {
      "cell_type": "code",
      "source": [
        "# Попытаемся изменить цвет на неуказанный в списке __COLOR_VARIANTS\n",
        "vehicle1.set_color('GREEN')"
      ],
      "metadata": {
        "colab": {
          "base_uri": "https://localhost:8080/"
        },
        "id": "_ibghGxM_gSq",
        "outputId": "00e4fb5e-44c9-4d00-a433-8fb51aefd4bd"
      },
      "execution_count": 39,
      "outputs": [
        {
          "output_type": "stream",
          "name": "stdout",
          "text": [
            "Нельзя изменить цвет на GREEN\n"
          ]
        }
      ]
    },
    {
      "cell_type": "code",
      "source": [
        "# Изменим цвет на разрешенный и поменяем владельца\n",
        "vehicle1.set_color('White')\n",
        "vehicle1.name_owner = 'Alex'"
      ],
      "metadata": {
        "id": "SondcMUbG8ih"
      },
      "execution_count": null,
      "outputs": []
    },
    {
      "cell_type": "code",
      "source": [
        "# Проаверим изменения\n",
        "vehicle1.print_info()"
      ],
      "metadata": {
        "colab": {
          "base_uri": "https://localhost:8080/"
        },
        "id": "BdgdW4Q8AcIt",
        "outputId": "300f6687-1982-4aa6-cb21-ca359139383d"
      },
      "execution_count": 37,
      "outputs": [
        {
          "output_type": "stream",
          "name": "stdout",
          "text": [
            "Модель: Toyota Mark II\n",
            "Мощность двигателя: 500\n",
            "Цвет: White\n",
            "Владелец:  Alex\n"
          ]
        }
      ]
    },
    {
      "cell_type": "code",
      "source": [
        "print(Vehicle.__doc__)"
      ],
      "metadata": {
        "colab": {
          "base_uri": "https://localhost:8080/"
        },
        "id": "CE0KUP1PAnXp",
        "outputId": "50f83a32-5173-4323-ee9f-a1386cc9b508"
      },
      "execution_count": 38,
      "outputs": [
        {
          "output_type": "stream",
          "name": "stdout",
          "text": [
            "Класс Транспортное средство принимает аргументы:\n",
            "  1. Имя владельца - name_owner\n",
            "  2. Марка модели - model\n",
            "  3. Цвет модели - color\n",
            "  4. Мощность двигателя - engine_power\n",
            "  Автомобиль может менять владельца\n",
            "  Цвет автомобиля можно менять только на цвета из списка __COLOR_VARIANTS\n",
            "  остальные параметры задаются при создании и изменению НЕ ПОДЛЕЖАТ! \n"
          ]
        }
      ]
    },
    {
      "cell_type": "code",
      "source": [],
      "metadata": {
        "id": "GFuSs-ncEpUz"
      },
      "execution_count": null,
      "outputs": []
    }
  ]
}