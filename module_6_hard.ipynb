{
  "nbformat": 4,
  "nbformat_minor": 0,
  "metadata": {
    "colab": {
      "provenance": [],
      "authorship_tag": "ABX9TyMaEFrwYWYOaQ9KAMeHsvUM",
      "include_colab_link": true
    },
    "kernelspec": {
      "name": "python3",
      "display_name": "Python 3"
    },
    "language_info": {
      "name": "python"
    }
  },
  "cells": [
    {
      "cell_type": "markdown",
      "metadata": {
        "id": "view-in-github",
        "colab_type": "text"
      },
      "source": [
        "<a href=\"https://colab.research.google.com/github/santfan/module_6/blob/main/module_6_hard.ipynb\" target=\"_parent\"><img src=\"https://colab.research.google.com/assets/colab-badge.svg\" alt=\"Open In Colab\"/></a>"
      ]
    },
    {
      "cell_type": "code",
      "source": [
        "from math import pi"
      ],
      "metadata": {
        "id": "vi1cn2OAfbWh"
      },
      "execution_count": 8,
      "outputs": []
    },
    {
      "cell_type": "code",
      "execution_count": 9,
      "metadata": {
        "id": "s-jKMWrrUCkg"
      },
      "outputs": [],
      "source": [
        "# Создадим основной класс\n",
        "class Figure:\n",
        "  __sides = []\n",
        "  __color = []\n",
        "  filled =False\n",
        "\n",
        "  sides_count = 0\n",
        "# Инициация объектов\n",
        "  def __init__(self, rgb, *side):\n",
        "    self.color = list(rgb)\n",
        "    self.side = side[0]\n",
        "    self.filled = True\n",
        "\n",
        "# Взять цвет\n",
        "  def get_color(self):\n",
        "    self.__color = self.color\n",
        "    self.filled = True\n",
        "    return self.__color\n",
        "\n",
        "# Проверка валидности цвета\n",
        "  def _is_valid_color(self, r, g, b):\n",
        "    self.r = r\n",
        "    self.g = g\n",
        "    self.b = b\n",
        "    if 0 <= self.r <= 255 and 0 <= self.g <= 255 and 0 <= self.b <= 255:\n",
        "      return True\n",
        "    else:\n",
        "      return False\n",
        "\n",
        "# Установка цвета\n",
        "  def set_color(self, r, g, b):\n",
        "    if self._is_valid_color(r, g, b):\n",
        "      self.color = [self.r, self.g, self.b]\n",
        "\n",
        "# Проверка валибности сторон\n",
        "  def __is_valid_sides(self, *args):\n",
        "    #for side in self.sides:\n",
        "     if len(self.sides) == 1:\n",
        "       return True\n",
        "     else:\n",
        "       return False\n",
        "\n",
        "# Взять стороны\n",
        "  def get_sides(self):\n",
        "    self.__sides = [self.side] * self.sides_count\n",
        "    return self.__sides\n",
        "\n",
        "# Расчет периметра\n",
        "  def __len__(self, *args):\n",
        "    return self.side * self.sides_count\n",
        "\n",
        "# Установка сторон\n",
        "  def set_sides(self, *args):\n",
        "    self.sides = list(args)\n",
        "    if self.__is_valid_sides(self, *args):\n",
        "      self.side = self.sides[0] * self.sides_count\n",
        "      self.get_sides()\n",
        "    else:\n",
        "      return False\n",
        "      #self.sides = [1] * self.sides_count\n",
        "      #self.get_sides()\n",
        "\n",
        "# Дочерний класс Круга\n",
        "class Circle(Figure):\n",
        "  sides_count = 1\n",
        "  def get_square(self):\n",
        "    return (self.side ** 2) / (4 * pi)\n",
        "\n",
        "# Дочерний класс Треугольника\n",
        "class Triangle(Figure):\n",
        "  sides_count = 3\n",
        "  def get_square(self):\n",
        "      return (self.side ** 2) * ((self.sides_count) ** 0.5) / 4\n",
        "\n",
        "# Дочерний класс Куба\n",
        "class Cube(Figure):\n",
        "  sides_count = 12\n",
        "  def get_volume(self):\n",
        "      return self.side ** 3"
      ]
    },
    {
      "cell_type": "code",
      "source": [
        "# Создание экземпляров\n",
        "circle1 = Circle((200, 200, 100), 10)\n",
        "cube1 = Cube((222, 35, 130), 6)\n",
        "triangle1 = Triangle((200, 200, 100), 10)"
      ],
      "metadata": {
        "id": "V6HjKzr3xEX_"
      },
      "execution_count": 10,
      "outputs": []
    },
    {
      "cell_type": "code",
      "source": [
        "# Проверка на изменение цветов:\n",
        "circle1.set_color(55, 66, 77)  # Изменится\n",
        "print(circle1.get_color())\n",
        "cube1.set_color(300, 70, 15)  # Не изменится\n",
        "print(cube1.get_color())"
      ],
      "metadata": {
        "colab": {
          "base_uri": "https://localhost:8080/"
        },
        "id": "oVh2YkKaxz20",
        "outputId": "82f5b970-cd99-4a9a-9212-3364ccd287e1"
      },
      "execution_count": 11,
      "outputs": [
        {
          "output_type": "stream",
          "name": "stdout",
          "text": [
            "[55, 66, 77]\n",
            "[222, 35, 130]\n"
          ]
        }
      ]
    },
    {
      "cell_type": "code",
      "source": [
        "# Проверка на изменение сторон:\n",
        "cube1.set_sides(5, 3, 12, 4, 5)  # Не изменится\n",
        "print(cube1.get_sides())\n",
        "circle1.set_sides(15)  # Изменится\n",
        "print(circle1.get_sides())"
      ],
      "metadata": {
        "colab": {
          "base_uri": "https://localhost:8080/"
        },
        "id": "YHrYHGiEx4sl",
        "outputId": "7686bfae-d39d-4fec-dd1f-ed4cfecd9199"
      },
      "execution_count": 12,
      "outputs": [
        {
          "output_type": "stream",
          "name": "stdout",
          "text": [
            "[6, 6, 6, 6, 6, 6, 6, 6, 6, 6, 6, 6]\n",
            "[15]\n"
          ]
        }
      ]
    },
    {
      "cell_type": "code",
      "source": [
        "# Проверка периметра куба:\n",
        "print(cube1.__len__())"
      ],
      "metadata": {
        "colab": {
          "base_uri": "https://localhost:8080/"
        },
        "id": "ymFYlsXAyroS",
        "outputId": "3192ab1e-9aa2-4960-cc53-e9d21f6c5830"
      },
      "execution_count": 13,
      "outputs": [
        {
          "output_type": "stream",
          "name": "stdout",
          "text": [
            "72\n"
          ]
        }
      ]
    },
    {
      "cell_type": "code",
      "source": [
        "# Проверка объёма (куба):\n",
        "print(cube1.get_volume())"
      ],
      "metadata": {
        "colab": {
          "base_uri": "https://localhost:8080/"
        },
        "id": "TCjSf8YE6te_",
        "outputId": "c39f0221-b986-4e0a-8c42-330eb2e409ff"
      },
      "execution_count": 14,
      "outputs": [
        {
          "output_type": "stream",
          "name": "stdout",
          "text": [
            "216\n"
          ]
        }
      ]
    },
    {
      "cell_type": "code",
      "source": [
        "# Проверка площади круга\n",
        "print(circle1.get_square())"
      ],
      "metadata": {
        "colab": {
          "base_uri": "https://localhost:8080/"
        },
        "id": "SFDKMNSm69XL",
        "outputId": "effafdd3-3051-4a4c-88d0-decabe1ff3c9"
      },
      "execution_count": 15,
      "outputs": [
        {
          "output_type": "stream",
          "name": "stdout",
          "text": [
            "17.904931097838226\n"
          ]
        }
      ]
    },
    {
      "cell_type": "code",
      "source": [
        "# Проверка площади треугольника\n",
        "print(triangle1.get_square())"
      ],
      "metadata": {
        "id": "Bd0f6rgs9Fxj",
        "colab": {
          "base_uri": "https://localhost:8080/"
        },
        "outputId": "f28e7fcc-385c-41f4-da5d-fc95b6a314a4"
      },
      "execution_count": 16,
      "outputs": [
        {
          "output_type": "stream",
          "name": "stdout",
          "text": [
            "43.30127018922193\n"
          ]
        }
      ]
    },
    {
      "cell_type": "code",
      "source": [
        "# Проверка периметра круга\n",
        "print(circle1.__len__())"
      ],
      "metadata": {
        "colab": {
          "base_uri": "https://localhost:8080/"
        },
        "id": "EBAxLqosv73u",
        "outputId": "6446c995-c37a-4295-c929-06db27d7fcdf"
      },
      "execution_count": 17,
      "outputs": [
        {
          "output_type": "stream",
          "name": "stdout",
          "text": [
            "15\n"
          ]
        }
      ]
    },
    {
      "cell_type": "code",
      "source": [
        "# Проверка периметра треугольника\n",
        "print(triangle1.__len__())"
      ],
      "metadata": {
        "colab": {
          "base_uri": "https://localhost:8080/"
        },
        "id": "tlyGSwrj0uei",
        "outputId": "8d876d54-87b5-4893-8c6a-a811dd4bef47"
      },
      "execution_count": 18,
      "outputs": [
        {
          "output_type": "stream",
          "name": "stdout",
          "text": [
            "30\n"
          ]
        }
      ]
    }
  ]
}