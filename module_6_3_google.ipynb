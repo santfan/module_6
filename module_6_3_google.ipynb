{
  "nbformat": 4,
  "nbformat_minor": 0,
  "metadata": {
    "colab": {
      "provenance": [],
      "authorship_tag": "ABX9TyO2Fx+yDeQIsTHZf+/pUHgL",
      "include_colab_link": true
    },
    "kernelspec": {
      "name": "python3",
      "display_name": "Python 3"
    },
    "language_info": {
      "name": "python"
    }
  },
  "cells": [
    {
      "cell_type": "markdown",
      "metadata": {
        "id": "view-in-github",
        "colab_type": "text"
      },
      "source": [
        "<a href=\"https://colab.research.google.com/github/santfan/module_6/blob/main/module_6_3_google.ipynb\" target=\"_parent\"><img src=\"https://colab.research.google.com/assets/colab-badge.svg\" alt=\"Open In Colab\"/></a>"
      ]
    },
    {
      "cell_type": "code",
      "source": [
        "class Horse:\n",
        "  \"\"\"Объвим класс Лошадь в качестве аргументов принимает\n",
        "  начальную позицию - xdistance и звук - sound\"\"\"\n",
        "  def __init__(self, xdistance = 0, sound = 'Frr'):\n",
        "    # При инициализации установим аргументы\n",
        "    self.xdistance = xdistance\n",
        "    self.sound = sound\n",
        "  # Функция изменения позиции при беге Лошади\n",
        "  def run(self, dx):\n",
        "    self.xdistance = self.xdistance + dx\n",
        "\"\"\"Объвим класс Орел в качестве аргументов принимает\n",
        "  начальную позицию - ydistance и звук - sound\"\"\"\n",
        "class Eagle:\n",
        "\n",
        "  def __init__(self, ydistance = 0, sound = 'I train, eat, sleep and repeat'):\n",
        "    # При инициализации установим аргументы\n",
        "    self.ydistance = ydistance\n",
        "    self.sound = sound\n",
        "  # Функция изменения позиции при полете Орла\n",
        "  def fly(self, dy):\n",
        "    self.ydistance = self.ydistance + dy\n",
        ""
      ],
      "metadata": {
        "id": "zatZwVBlGeZO"
      },
      "execution_count": 24,
      "outputs": []
    },
    {
      "cell_type": "code",
      "source": [
        "class Pegasus(Horse, Eagle):\n",
        "  \"\"\"Класс Пегас наследует аргументы и методы классов в последовательности:\n",
        "  1. Класс Horse\n",
        "  2. Класс Eagle\"\"\"\n",
        "  def __init__(self):\n",
        "    Horse.__init__(self)\n",
        "    Eagle.__init__(self)\n",
        "  # Функция отслеживания перемещения Пегаса\n",
        "  def move(self, dx, dy):\n",
        "    # Использование функции полета Орла\n",
        "    self.fly(dy)\n",
        "    # Использование функции бега Лошади\n",
        "    self.run(dx)\n",
        "  # Определение текущей позиции Пегаса исходя из бега и полета\n",
        "  def get_pos(self):\n",
        "    return (self.xdistance, self.ydistance)\n",
        "  # Функция голоса\n",
        "  def voice(self):\n",
        "    print(self.sound)"
      ],
      "metadata": {
        "id": "xJ2B84L51hJo"
      },
      "execution_count": 25,
      "outputs": []
    },
    {
      "cell_type": "code",
      "source": [
        "# Создадим экземпляр класса Пегас\n",
        "p1 = Pegasus()"
      ],
      "metadata": {
        "id": "OFprXIbA3Kii"
      },
      "execution_count": 26,
      "outputs": []
    },
    {
      "cell_type": "code",
      "source": [
        "# Выведем текущую позицию Пегаса\n",
        "print(p1.get_pos())"
      ],
      "metadata": {
        "colab": {
          "base_uri": "https://localhost:8080/"
        },
        "id": "ZGp0loNS3TFk",
        "outputId": "e0dfdb49-e755-48e9-cc2b-73508dd5acd2"
      },
      "execution_count": 27,
      "outputs": [
        {
          "output_type": "stream",
          "name": "stdout",
          "text": [
            "(0, 0)\n"
          ]
        }
      ]
    },
    {
      "cell_type": "code",
      "source": [
        "# Изменим позицию Пегаса\n",
        "p1.move(10, 15)\n",
        "# Выведем текущую позицию Пегаса\n",
        "print(p1.get_pos())"
      ],
      "metadata": {
        "colab": {
          "base_uri": "https://localhost:8080/"
        },
        "id": "mWZ8DZ5W3cd0",
        "outputId": "0298ec12-32b7-4d10-a000-1738da724d3e"
      },
      "execution_count": 28,
      "outputs": [
        {
          "output_type": "stream",
          "name": "stdout",
          "text": [
            "(10, 15)\n"
          ]
        }
      ]
    },
    {
      "cell_type": "code",
      "source": [
        "# Изменим позицию Пегаса\n",
        "p1.move(-5, 20)\n",
        "# Выведем текущую позицию Пегаса\n",
        "print(p1.get_pos())"
      ],
      "metadata": {
        "colab": {
          "base_uri": "https://localhost:8080/"
        },
        "id": "IPRHzznW3js4",
        "outputId": "435805ac-c64f-4b43-8ba5-0bd66c24aab2"
      },
      "execution_count": 29,
      "outputs": [
        {
          "output_type": "stream",
          "name": "stdout",
          "text": [
            "(5, 35)\n"
          ]
        }
      ]
    },
    {
      "cell_type": "code",
      "source": [
        "# Опробуем голос Пегаса\n",
        "p1.voice()"
      ],
      "metadata": {
        "colab": {
          "base_uri": "https://localhost:8080/"
        },
        "id": "jJoCP-6b4cKc",
        "outputId": "1e9290ba-536b-4eec-a52a-f0d6b5a3e99e"
      },
      "execution_count": 30,
      "outputs": [
        {
          "output_type": "stream",
          "name": "stdout",
          "text": [
            "I train, eat, sleep and repeat\n"
          ]
        }
      ]
    }
  ]
}