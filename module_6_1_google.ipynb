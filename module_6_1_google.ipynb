{
  "nbformat": 4,
  "nbformat_minor": 0,
  "metadata": {
    "colab": {
      "provenance": [],
      "authorship_tag": "ABX9TyM6KYZJW47McH3kYvUMoz2J",
      "include_colab_link": true
    },
    "kernelspec": {
      "name": "python3",
      "display_name": "Python 3"
    },
    "language_info": {
      "name": "python"
    }
  },
  "cells": [
    {
      "cell_type": "markdown",
      "metadata": {
        "id": "view-in-github",
        "colab_type": "text"
      },
      "source": [
        "<a href=\"https://colab.research.google.com/github/santfan/module_6/blob/main/module_6_1_google.ipynb\" target=\"_parent\"><img src=\"https://colab.research.google.com/assets/colab-badge.svg\" alt=\"Open In Colab\"/></a>"
      ]
    },
    {
      "cell_type": "code",
      "execution_count": 25,
      "metadata": {
        "id": "f4nAadOk-3lI"
      },
      "outputs": [],
      "source": [
        "class Animal:\n",
        "  '''Объявим класс животное'''\n",
        "  # Установим флаг животное живо\n",
        "  alive = True\n",
        "  # Усьановим флаг сытости в значение голодно\n",
        "  fed = False\n",
        "  # Функция инициации\n",
        "  def __init__(self, name):\n",
        "    self.name = name\n",
        "  # Функция еды\n",
        "  def eat(self, food):\n",
        "    # Если еда съедобна\n",
        "    if food.adible == True:\n",
        "      # Животное сыто\n",
        "      Animal.fed = True\n",
        "      print(f'{self.name} съел {food.name}')\n",
        "    else:\n",
        "      # Если еда не съедобна флаг \"живой\" устанавливаем в Ложь\n",
        "      Animal.alive = False\n",
        "      print(f'{self.name} не стал есть {food.name}')\n",
        "\n",
        "class Plant:\n",
        "  '''Объявим класс растение установим флаг \"съедобно\" в Ложь'''\n",
        "  adible = False\n",
        "  # Функция инициации\n",
        "  def __init__(self, name):\n",
        "    self.name = name"
      ]
    },
    {
      "cell_type": "code",
      "source": [
        "class Mammal(Animal):\n",
        "  '''Для класса млекопитающее родительский класс животное'''\n",
        "  pass\n",
        "class Predator(Animal):\n",
        "  '''Для класса хищник родительский класс животное'''\n",
        "  pass"
      ],
      "metadata": {
        "id": "Jtri0cmZFdSg"
      },
      "execution_count": 26,
      "outputs": []
    },
    {
      "cell_type": "code",
      "source": [
        "class Flower(Plant):\n",
        "  '''Для класса цветы родительский класс расстения'''\n",
        "  # Для цветов \"съедобное\" установим в Ложь\n",
        "  adible = False\n",
        "class Fruit(Plant):\n",
        "  '''Для класса фрукты родительский класс расстения'''\n",
        "  # Для фруктов \"съедобное\" установим в Истина\n",
        "  adible = True"
      ],
      "metadata": {
        "id": "v8ytYNBiGCpb"
      },
      "execution_count": 27,
      "outputs": []
    },
    {
      "cell_type": "code",
      "source": [
        "# Создадим экземпляр хищника\n",
        "a1 = Predator('Волк с Уолл-Стрит')\n",
        "# Создадим экземпляр млекопитающее\n",
        "a2 = Mammal('Хатико')\n",
        "# Создадим экземпляр цветок\n",
        "p1 = Flower('Цветик семицветик')\n",
        "# Создадим экземпляр фрукт\n",
        "p2 = Fruit('Завадной апельсин')"
      ],
      "metadata": {
        "id": "ROrSmC5iMaYS"
      },
      "execution_count": 28,
      "outputs": []
    },
    {
      "cell_type": "code",
      "source": [
        "# Проверим результат создания экземпляров\n",
        "print(f'{a1.name} - хищник')\n",
        "print(f'{a2.name} - млекопитающее')\n",
        "print(f'{p1.name} - цветок')\n",
        "print(f'{p2.name} - фрукт')"
      ],
      "metadata": {
        "colab": {
          "base_uri": "https://localhost:8080/"
        },
        "id": "a7vDkYr7Mhxi",
        "outputId": "baa58810-f44d-43b2-d729-731c2f35be33"
      },
      "execution_count": 29,
      "outputs": [
        {
          "output_type": "stream",
          "name": "stdout",
          "text": [
            "Волк с Уолл-Стрит - хищник\n",
            "Хатико - млекопитающее\n",
            "Цветик семицветик - цветок\n",
            "Завадной апельсин - фрукт\n"
          ]
        }
      ]
    },
    {
      "cell_type": "code",
      "source": [
        "# Состояние экземпляров\n",
        "print(a1.alive)\n",
        "print(a2.fed)\n",
        "# Накормим волка цветком\n",
        "a1.eat(p1)\n",
        "# Накормим Хатико апельсином\n",
        "a2.eat(p2)\n",
        "# Проверим как изменилось состояние экземпляров\n",
        "print(a1.alive)\n",
        "print(a2.fed)"
      ],
      "metadata": {
        "colab": {
          "base_uri": "https://localhost:8080/"
        },
        "id": "oPciitDfMpIK",
        "outputId": "1cf63a32-0217-4568-8a25-d593d5b2d154"
      },
      "execution_count": 30,
      "outputs": [
        {
          "output_type": "stream",
          "name": "stdout",
          "text": [
            "True\n",
            "False\n",
            "Волк с Уолл-Стрит не стал есть Цветик семицветик\n",
            "Хатико съел Завадной апельсин\n",
            "False\n",
            "True\n"
          ]
        }
      ]
    },
    {
      "cell_type": "code",
      "source": [],
      "metadata": {
        "id": "jgLG-yRnMyKE"
      },
      "execution_count": null,
      "outputs": []
    }
  ]
}